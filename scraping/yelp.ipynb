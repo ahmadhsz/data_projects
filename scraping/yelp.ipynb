{
 "cells": [
  {
   "cell_type": "code",
   "execution_count": 1,
   "id": "d92d861b",
   "metadata": {},
   "outputs": [],
   "source": [
    "from selenium import webdriver\n",
    "from selenium.webdriver.common.by import By\n",
    "from selenium.webdriver.support.ui import WebDriverWait\n",
    "from selenium.webdriver.support import expected_conditions as EC\n",
    "\n",
    "import time\n",
    "import pandas as pd"
   ]
  },
  {
   "cell_type": "code",
   "execution_count": 2,
   "id": "3ba8c8db",
   "metadata": {},
   "outputs": [],
   "source": [
    "url = 'https://www.yelp.co.uk'\n",
    "driver = webdriver.Safari()\n",
    "driver.get(url)\n",
    "time.sleep(3)\n"
   ]
  },
  {
   "cell_type": "markdown",
   "id": "2e021f1e",
   "metadata": {},
   "source": [
    "#### Get rid of cookies warning"
   ]
  },
  {
   "cell_type": "code",
   "execution_count": 3,
   "id": "568149f0",
   "metadata": {},
   "outputs": [],
   "source": [
    "WebDriverWait(driver, 10).until(EC.element_to_be_clickable((By.ID, 'onetrust-accept-btn-handler'))).click()\n",
    "\n"
   ]
  },
  {
   "cell_type": "markdown",
   "id": "bfe2f257",
   "metadata": {},
   "source": [
    "##### Anyone can change these two elements to persolize it"
   ]
  },
  {
   "cell_type": "code",
   "execution_count": 4,
   "id": "18973a99",
   "metadata": {},
   "outputs": [],
   "source": [
    "search_box = driver.find_element(By.NAME, value='find_desc')\n",
    "search_box.click()\n",
    "search_box.send_keys('Restaurants')\n",
    "location = driver.find_element(By.ID, value='search_location')\n",
    "location.click()\n",
    "location.clear()\n",
    "location.send_keys('Liverpool')"
   ]
  },
  {
   "cell_type": "code",
   "execution_count": 5,
   "id": "84aa7100",
   "metadata": {},
   "outputs": [],
   "source": [
    "\n",
    "search_button = driver.find_element(By.XPATH, value='//*[@id=\"header_find_form\"]/div/div[2]/div/div/button')\n",
    "search_button.click()\n",
    "time.sleep(3)"
   ]
  },
  {
   "cell_type": "code",
   "execution_count": 6,
   "id": "d01d13dd",
   "metadata": {},
   "outputs": [
    {
     "data": {
      "text/plain": [
       "'24'"
      ]
     },
     "execution_count": 6,
     "metadata": {},
     "output_type": "execute_result"
    }
   ],
   "source": [
    "pages = driver.find_element(By.XPATH, value='//div[@class=\" border-color--default__09f24__NPAKY text-align--center__09f24__fYBGO\"]/span').text.split(' ')[-1]\n",
    "pages"
   ]
  },
  {
   "cell_type": "code",
   "execution_count": 8,
   "id": "faba2ac7",
   "metadata": {},
   "outputs": [],
   "source": [
    "name_list = []\n",
    "stars_list = []\n",
    "num_of_reviews_list = []\n",
    "address_list = []\n",
    "while True:\n",
    "    try:\n",
    "        for i in range(int(pages)):\n",
    "            name = driver.find_elements(By.XPATH, value=\"//div[@class=' businessName__09f24__EYSZE display--inline-block__09f24__fEDiJ border-color--default__09f24__NPAKY']/div/h3/span/a\")\n",
    "            num_of_reviews = driver.find_elements(By.XPATH, value='//div[@class=\" display--inline-block__09f24__fEDiJ border-color--default__09f24__NPAKY\"]/span[@class=\" css-chan6m\"]')\n",
    "            stars = driver.find_elements(By.XPATH, value='//div[@class=\" border-color--default__09f24__NPAKY\"]/div/div/span/div')\n",
    "            address = driver.find_elements(By.XPATH, value='//p[@class=\"css-dzq7l1\"]/span[@class=\" css-chan6m\"]')\n",
    "            all_lists_length = [\n",
    "                len(name),\n",
    "                len(stars),\n",
    "                len(num_of_reviews),\n",
    "                len(address)\n",
    "            ]\n",
    "\n",
    "            if len(set(all_lists_length)) == 1:\n",
    "                for i in range(all_lists_length[0]):\n",
    "                    name_list.append(name[i].text)\n",
    "                    stars_list.append(float(stars[i].get_attribute('aria-label').split(' ')[0]))\n",
    "                    num_of_reviews_list.append(int(num_of_reviews[i].text))\n",
    "                    address_list.append(address[i].text)\n",
    "            else:\n",
    "                print('Sorry! Some values are missing.')\n",
    "            next_page = driver.find_element(By.XPATH, value='//li[@class=\" border-color--default__09f24__NPAKY\"]/div/div/div/div/span/a[@class=\"next-link navigation-button__09f24__m9qRz css-144i0wq\"]')\n",
    "            next_page.click()\n",
    "            time.sleep(3)\n",
    "    except:\n",
    "        break"
   ]
  },
  {
   "cell_type": "code",
   "execution_count": 9,
   "id": "646e87ba",
   "metadata": {},
   "outputs": [
    {
     "data": {
      "text/plain": [
       "[10, 10, 10, 10]"
      ]
     },
     "execution_count": 9,
     "metadata": {},
     "output_type": "execute_result"
    }
   ],
   "source": [
    "all_lists_length"
   ]
  },
  {
   "cell_type": "code",
   "execution_count": 10,
   "id": "58dfb45d",
   "metadata": {},
   "outputs": [],
   "source": [
    "import pandas as pd"
   ]
  },
  {
   "cell_type": "code",
   "execution_count": 11,
   "id": "6bffdaad",
   "metadata": {},
   "outputs": [],
   "source": [
    "df = pd.DataFrame(list(zip(name_list, stars_list, num_of_reviews_list, address_list)),\n",
    "                 columns=['Restaurant', 'Stars', 'Number Of Reviews', 'Address'], index=None)"
   ]
  },
  {
   "cell_type": "code",
   "execution_count": 12,
   "id": "0e797c17",
   "metadata": {},
   "outputs": [
    {
     "data": {
      "text/html": [
       "<div>\n",
       "<style scoped>\n",
       "    .dataframe tbody tr th:only-of-type {\n",
       "        vertical-align: middle;\n",
       "    }\n",
       "\n",
       "    .dataframe tbody tr th {\n",
       "        vertical-align: top;\n",
       "    }\n",
       "\n",
       "    .dataframe thead th {\n",
       "        text-align: right;\n",
       "    }\n",
       "</style>\n",
       "<table border=\"1\" class=\"dataframe\">\n",
       "  <thead>\n",
       "    <tr style=\"text-align: right;\">\n",
       "      <th></th>\n",
       "      <th>Restaurant</th>\n",
       "      <th>Stars</th>\n",
       "      <th>Number Of Reviews</th>\n",
       "      <th>Address</th>\n",
       "    </tr>\n",
       "  </thead>\n",
       "  <tbody>\n",
       "    <tr>\n",
       "      <th>0</th>\n",
       "      <td>Leaf</td>\n",
       "      <td>4.5</td>\n",
       "      <td>51</td>\n",
       "      <td></td>\n",
       "    </tr>\n",
       "    <tr>\n",
       "      <th>1</th>\n",
       "      <td>George’s Great British Kitchen</td>\n",
       "      <td>4.5</td>\n",
       "      <td>3</td>\n",
       "      <td></td>\n",
       "    </tr>\n",
       "    <tr>\n",
       "      <th>2</th>\n",
       "      <td>The Smugglers Cove</td>\n",
       "      <td>4.0</td>\n",
       "      <td>31</td>\n",
       "      <td></td>\n",
       "    </tr>\n",
       "    <tr>\n",
       "      <th>3</th>\n",
       "      <td>Docklands Fish and Chips</td>\n",
       "      <td>4.5</td>\n",
       "      <td>8</td>\n",
       "      <td></td>\n",
       "    </tr>\n",
       "    <tr>\n",
       "      <th>4</th>\n",
       "      <td>Famous Blue Star Fish &amp; Chip Shop</td>\n",
       "      <td>5.0</td>\n",
       "      <td>3</td>\n",
       "      <td></td>\n",
       "    </tr>\n",
       "    <tr>\n",
       "      <th>...</th>\n",
       "      <td>...</td>\n",
       "      <td>...</td>\n",
       "      <td>...</td>\n",
       "      <td>...</td>\n",
       "    </tr>\n",
       "    <tr>\n",
       "      <th>235</th>\n",
       "      <td>Wahaca Liverpool</td>\n",
       "      <td>4.0</td>\n",
       "      <td>9</td>\n",
       "      <td></td>\n",
       "    </tr>\n",
       "    <tr>\n",
       "      <th>236</th>\n",
       "      <td>Tribeca</td>\n",
       "      <td>4.0</td>\n",
       "      <td>13</td>\n",
       "      <td></td>\n",
       "    </tr>\n",
       "    <tr>\n",
       "      <th>237</th>\n",
       "      <td>Eagle &amp; Child</td>\n",
       "      <td>5.0</td>\n",
       "      <td>1</td>\n",
       "      <td></td>\n",
       "    </tr>\n",
       "    <tr>\n",
       "      <th>238</th>\n",
       "      <td>The Old Riding School Cafe</td>\n",
       "      <td>2.0</td>\n",
       "      <td>1</td>\n",
       "      <td></td>\n",
       "    </tr>\n",
       "    <tr>\n",
       "      <th>239</th>\n",
       "      <td>Corner Cafe</td>\n",
       "      <td>4.0</td>\n",
       "      <td>2</td>\n",
       "      <td></td>\n",
       "    </tr>\n",
       "  </tbody>\n",
       "</table>\n",
       "<p>240 rows × 4 columns</p>\n",
       "</div>"
      ],
      "text/plain": [
       "                            Restaurant  Stars  Number Of Reviews Address\n",
       "0                                 Leaf    4.5                 51        \n",
       "1       George’s Great British Kitchen    4.5                  3        \n",
       "2                   The Smugglers Cove    4.0                 31        \n",
       "3             Docklands Fish and Chips    4.5                  8        \n",
       "4    Famous Blue Star Fish & Chip Shop    5.0                  3        \n",
       "..                                 ...    ...                ...     ...\n",
       "235                   Wahaca Liverpool    4.0                  9        \n",
       "236                            Tribeca    4.0                 13        \n",
       "237                      Eagle & Child    5.0                  1        \n",
       "238         The Old Riding School Cafe    2.0                  1        \n",
       "239                        Corner Cafe    4.0                  2        \n",
       "\n",
       "[240 rows x 4 columns]"
      ]
     },
     "execution_count": 12,
     "metadata": {},
     "output_type": "execute_result"
    }
   ],
   "source": [
    "df"
   ]
  },
  {
   "cell_type": "code",
   "execution_count": 13,
   "id": "bd8e557d",
   "metadata": {},
   "outputs": [],
   "source": [
    "df.to_csv('liverpool.csv')"
   ]
  },
  {
   "cell_type": "code",
   "execution_count": null,
   "id": "6dc2a797",
   "metadata": {},
   "outputs": [],
   "source": []
  }
 ],
 "metadata": {
  "kernelspec": {
   "display_name": "Python 3 (ipykernel)",
   "language": "python",
   "name": "python3"
  },
  "language_info": {
   "codemirror_mode": {
    "name": "ipython",
    "version": 3
   },
   "file_extension": ".py",
   "mimetype": "text/x-python",
   "name": "python",
   "nbconvert_exporter": "python",
   "pygments_lexer": "ipython3",
   "version": "3.10.5"
  }
 },
 "nbformat": 4,
 "nbformat_minor": 5
}
