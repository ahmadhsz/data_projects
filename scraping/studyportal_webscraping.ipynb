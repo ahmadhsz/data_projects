{
 "cells": [
  {
   "cell_type": "code",
   "execution_count": 2,
   "id": "f708b52e",
   "metadata": {},
   "outputs": [],
   "source": [
    "from selenium import webdriver\n",
    "from selenium.webdriver.common.by import By\n",
    "from selenium.webdriver.support.ui import WebDriverWait\n",
    "from selenium.webdriver.support import expected_conditions as EC\n",
    "\n",
    "import time\n",
    "import pandas as pd\n",
    "import numpy as np"
   ]
  },
  {
   "cell_type": "markdown",
   "id": "619dcb6b",
   "metadata": {},
   "source": [
    "#### Search your course and country in the studyportal.com, then copy the results link and paste here\n",
    "It may take much longer according to your internet condition and server trafic so wait until the page is loaded completely."
   ]
  },
  {
   "cell_type": "code",
   "execution_count": 3,
   "id": "5e98a976",
   "metadata": {
    "scrolled": true
   },
   "outputs": [
    {
     "name": "stdout",
     "output_type": "stream",
     "text": [
      "Url: https://www.mastersportal.com/search/master/data-science-big-data/united-states\n"
     ]
    }
   ],
   "source": [
    "url = input('Url: ') \n",
    "driver = webdriver.Safari()\n",
    "driver.get(url)\n",
    "time.sleep(3)"
   ]
  },
  {
   "cell_type": "code",
   "execution_count": 4,
   "id": "c65a4b0a",
   "metadata": {},
   "outputs": [
    {
     "data": {
      "text/plain": [
       "'united-states'"
      ]
     },
     "execution_count": 4,
     "metadata": {},
     "output_type": "execute_result"
    }
   ],
   "source": [
    "field = url.split('/')[-2]\n",
    "country = url.split('/')[-1]\n",
    "country"
   ]
  },
  {
   "cell_type": "code",
   "execution_count": 5,
   "id": "22f46e01",
   "metadata": {},
   "outputs": [],
   "source": [
    "no_change_counter = 0\n",
    "old_height = 0\n",
    "while True:\n",
    "    # Try\n",
    "    new_height = driver.execute_script(\"return document.body.scrollHeight\") \n",
    "    driver.execute_script(\"window.scrollTo(0,{})\".format(new_height))\n",
    "    time.sleep(1)\n",
    "    if new_height > old_height:\n",
    "        old_height = new_height\n",
    "    else:\n",
    "        time.sleep(3)\n",
    "        no_change_counter += 1\n",
    "        \n",
    "    if no_change_counter >= 3:\n",
    "        break"
   ]
  },
  {
   "cell_type": "code",
   "execution_count": 6,
   "id": "05405449",
   "metadata": {},
   "outputs": [
    {
     "data": {
      "text/plain": [
       "526"
      ]
     },
     "execution_count": 6,
     "metadata": {},
     "output_type": "execute_result"
    }
   ],
   "source": [
    "results = driver.find_elements(By.XPATH, value = '//a[@class=\"SearchStudyCard js-bestFitStudycard\"]')\n",
    "len(results)"
   ]
  },
  {
   "cell_type": "code",
   "execution_count": 7,
   "id": "417402ec",
   "metadata": {},
   "outputs": [],
   "source": [
    "names_list = []\n",
    "fees_list = []\n",
    "fees_desc_list = []\n",
    "duration = []\n",
    "organization = []\n",
    "location = []\n",
    "summary = []\n",
    "for i in range(len(results)):\n",
    "    names_list.append(results[i].find_element(By.CLASS_NAME, value='StudyName').text)\n",
    "    try:\n",
    "        fees_list.append(int(results[i].find_element(By.CLASS_NAME, value='TuitionValue').text.split(' ')[0].replace(',', '')))\n",
    "        fees_desc_list.append(results[i].find_element(By.CLASS_NAME, value='TuitionValue').text.split(' ', 1)[1])\n",
    "        duration.append(results[i].find_element(By.CLASS_NAME, value='DurationValue').text)\n",
    "        organization.append(results[i].find_element(By.CLASS_NAME, value='OrganisationName').text)\n",
    "        location.append(results[i].find_element(By.CLASS_NAME, value='OrganisationLocation').text)\n",
    "        summary.append(results[i].find_element(By.CLASS_NAME, value='Summary').text)\n",
    "    except:\n",
    "        fees_list.append(np.nan)\n",
    "        fees_desc_list.append(np.nan)\n",
    "        duration.append(np.nan)\n",
    "        organization.append(np.nan)\n",
    "        location.append(np.nan)\n",
    "        summary.append(np.nan)\n"
   ]
  },
  {
   "cell_type": "code",
   "execution_count": 8,
   "id": "b742234f",
   "metadata": {},
   "outputs": [],
   "source": [
    "df = pd.DataFrame(list(zip(names_list, fees_list, fees_desc_list, duration, organization,location, summary)),\n",
    "                 columns=['Courses', 'Fees', 'Fees Type', 'Duration', 'Organization', 'Location', 'Course Description'], index=None)"
   ]
  },
  {
   "cell_type": "code",
   "execution_count": 9,
   "id": "bfe372e1",
   "metadata": {},
   "outputs": [
    {
     "name": "stdout",
     "output_type": "stream",
     "text": [
      "<class 'pandas.core.frame.DataFrame'>\n",
      "RangeIndex: 526 entries, 0 to 525\n",
      "Data columns (total 7 columns):\n",
      " #   Column              Non-Null Count  Dtype  \n",
      "---  ------              --------------  -----  \n",
      " 0   Courses             526 non-null    object \n",
      " 1   Fees                506 non-null    float64\n",
      " 2   Fees Type           506 non-null    object \n",
      " 3   Duration            506 non-null    object \n",
      " 4   Organization        506 non-null    object \n",
      " 5   Location            506 non-null    object \n",
      " 6   Course Description  506 non-null    object \n",
      "dtypes: float64(1), object(6)\n",
      "memory usage: 28.9+ KB\n"
     ]
    }
   ],
   "source": [
    "df.info()"
   ]
  },
  {
   "cell_type": "code",
   "execution_count": 10,
   "id": "202b56fa",
   "metadata": {},
   "outputs": [
    {
     "data": {
      "text/html": [
       "<div>\n",
       "<style scoped>\n",
       "    .dataframe tbody tr th:only-of-type {\n",
       "        vertical-align: middle;\n",
       "    }\n",
       "\n",
       "    .dataframe tbody tr th {\n",
       "        vertical-align: top;\n",
       "    }\n",
       "\n",
       "    .dataframe thead th {\n",
       "        text-align: right;\n",
       "    }\n",
       "</style>\n",
       "<table border=\"1\" class=\"dataframe\">\n",
       "  <thead>\n",
       "    <tr style=\"text-align: right;\">\n",
       "      <th></th>\n",
       "      <th>Courses</th>\n",
       "      <th>Fees</th>\n",
       "      <th>Fees Type</th>\n",
       "      <th>Duration</th>\n",
       "      <th>Organization</th>\n",
       "      <th>Location</th>\n",
       "      <th>Course Description</th>\n",
       "    </tr>\n",
       "  </thead>\n",
       "  <tbody>\n",
       "    <tr>\n",
       "      <th>0</th>\n",
       "      <td>Data Science for Business Leaders</td>\n",
       "      <td>758.0</td>\n",
       "      <td>EUR / full</td>\n",
       "      <td>2 months</td>\n",
       "      <td>School of Business</td>\n",
       "      <td>Online</td>\n",
       "      <td>Master the strategic decision-making skills fo...</td>\n",
       "    </tr>\n",
       "    <tr>\n",
       "      <th>1</th>\n",
       "      <td>Applied Data Science</td>\n",
       "      <td>31222.0</td>\n",
       "      <td>EUR / year</td>\n",
       "      <td>1 year</td>\n",
       "      <td>Coursera - University of Michigan</td>\n",
       "      <td>Online</td>\n",
       "      <td>The Master of Applied Data Science degree offe...</td>\n",
       "    </tr>\n",
       "    <tr>\n",
       "      <th>2</th>\n",
       "      <td>Master's in Business Analytics</td>\n",
       "      <td>52176.0</td>\n",
       "      <td>EUR / year</td>\n",
       "      <td>1 year</td>\n",
       "      <td>Hult International Business School</td>\n",
       "      <td>Multiple locations</td>\n",
       "      <td>Harness the power of big data through statisti...</td>\n",
       "    </tr>\n",
       "    <tr>\n",
       "      <th>3</th>\n",
       "      <td>Computer Science</td>\n",
       "      <td>9487.0</td>\n",
       "      <td>EUR / year</td>\n",
       "      <td>1½ years</td>\n",
       "      <td>Coursera - Arizona State University</td>\n",
       "      <td>Online</td>\n",
       "      <td>The Master in Computer Science offered by Cour...</td>\n",
       "    </tr>\n",
       "    <tr>\n",
       "      <th>4</th>\n",
       "      <td>Analytics</td>\n",
       "      <td>56726.0</td>\n",
       "      <td>EUR / year</td>\n",
       "      <td>1 year</td>\n",
       "      <td>Kogod School of Business, American University ...</td>\n",
       "      <td>Washington, D. C., Washington, D.C., United St...</td>\n",
       "      <td>Offered by the Kogod School of Business, the A...</td>\n",
       "    </tr>\n",
       "  </tbody>\n",
       "</table>\n",
       "</div>"
      ],
      "text/plain": [
       "                             Courses     Fees   Fees Type  Duration  \\\n",
       "0  Data Science for Business Leaders    758.0  EUR / full  2 months   \n",
       "1               Applied Data Science  31222.0  EUR / year    1 year   \n",
       "2     Master's in Business Analytics  52176.0  EUR / year    1 year   \n",
       "3                   Computer Science   9487.0  EUR / year  1½ years   \n",
       "4                          Analytics  56726.0  EUR / year    1 year   \n",
       "\n",
       "                                        Organization  \\\n",
       "0                                 School of Business   \n",
       "1                  Coursera - University of Michigan   \n",
       "2                 Hult International Business School   \n",
       "3                Coursera - Arizona State University   \n",
       "4  Kogod School of Business, American University ...   \n",
       "\n",
       "                                            Location  \\\n",
       "0                                             Online   \n",
       "1                                             Online   \n",
       "2                                 Multiple locations   \n",
       "3                                             Online   \n",
       "4  Washington, D. C., Washington, D.C., United St...   \n",
       "\n",
       "                                  Course Description  \n",
       "0  Master the strategic decision-making skills fo...  \n",
       "1  The Master of Applied Data Science degree offe...  \n",
       "2  Harness the power of big data through statisti...  \n",
       "3  The Master in Computer Science offered by Cour...  \n",
       "4  Offered by the Kogod School of Business, the A...  "
      ]
     },
     "execution_count": 10,
     "metadata": {},
     "output_type": "execute_result"
    }
   ],
   "source": [
    "df.head()"
   ]
  },
  {
   "cell_type": "code",
   "execution_count": 11,
   "id": "32f2f0cc",
   "metadata": {},
   "outputs": [],
   "source": [
    "df.to_excel('{}_{}.xlsx'.format(field, country))"
   ]
  },
  {
   "cell_type": "code",
   "execution_count": null,
   "id": "322a5334",
   "metadata": {},
   "outputs": [],
   "source": []
  }
 ],
 "metadata": {
  "kernelspec": {
   "display_name": "Python 3 (ipykernel)",
   "language": "python",
   "name": "python3"
  },
  "language_info": {
   "codemirror_mode": {
    "name": "ipython",
    "version": 3
   },
   "file_extension": ".py",
   "mimetype": "text/x-python",
   "name": "python",
   "nbconvert_exporter": "python",
   "pygments_lexer": "ipython3",
   "version": "3.10.5"
  }
 },
 "nbformat": 4,
 "nbformat_minor": 5
}
