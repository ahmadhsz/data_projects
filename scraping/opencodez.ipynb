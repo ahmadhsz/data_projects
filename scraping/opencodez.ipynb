{
 "cells": [
  {
   "cell_type": "code",
   "execution_count": 1,
   "id": "24c7435e",
   "metadata": {},
   "outputs": [],
   "source": [
    "import requests\n",
    "from bs4 import BeautifulSoup"
   ]
  },
  {
   "cell_type": "code",
   "execution_count": 2,
   "id": "1e2b8c0b",
   "metadata": {},
   "outputs": [
    {
     "data": {
      "text/plain": [
       "<Response [200]>"
      ]
     },
     "execution_count": 2,
     "metadata": {},
     "output_type": "execute_result"
    }
   ],
   "source": [
    "url = 'https://www.opencodez.com'\n",
    "response = requests.get('https://www.opencodez.com')\n",
    "response"
   ]
  },
  {
   "cell_type": "code",
   "execution_count": 3,
   "id": "da256aef",
   "metadata": {},
   "outputs": [],
   "source": [
    "bs = BeautifulSoup(response.content, 'html.parser')"
   ]
  },
  {
   "cell_type": "code",
   "execution_count": 4,
   "id": "06fa29cb",
   "metadata": {},
   "outputs": [
    {
     "data": {
      "text/plain": [
       "[<a class=\"inactive\" href=\"https://www.opencodez.com/page/2\">2</a>,\n",
       " <a class=\"inactive\" href=\"https://www.opencodez.com/page/3\">3</a>,\n",
       " <a class=\"inactive\" href=\"https://www.opencodez.com/page/4\">4</a>,\n",
       " <a class=\"inactive\" href=\"https://www.opencodez.com/page/2\">Next ›</a>,\n",
       " <a class=\"inactive\" href=\"https://www.opencodez.com/page/19\">Last »</a>]"
      ]
     },
     "execution_count": 4,
     "metadata": {},
     "output_type": "execute_result"
    }
   ],
   "source": [
    "pages = bs.find('div', attrs={'class':'pagination'}).find_all('a')\n",
    "pages"
   ]
  },
  {
   "cell_type": "code",
   "execution_count": 5,
   "id": "010520ff",
   "metadata": {},
   "outputs": [],
   "source": [
    "latest_page = int(pages[-1]['href'].split('/')[-1])"
   ]
  },
  {
   "cell_type": "code",
   "execution_count": 6,
   "id": "03a001be",
   "metadata": {},
   "outputs": [
    {
     "name": "stdout",
     "output_type": "stream",
     "text": [
      "page number 1 is finished\n",
      "page number 2 is finished\n",
      "page number 3 is finished\n",
      "page number 4 is finished\n",
      "page number 5 is finished\n",
      "page number 6 is finished\n",
      "page number 7 is finished\n",
      "page number 8 is finished\n",
      "page number 9 is finished\n",
      "page number 10 is finished\n",
      "page number 11 is finished\n",
      "page number 12 is finished\n",
      "page number 13 is finished\n",
      "page number 14 is finished\n",
      "page number 15 is finished\n",
      "page number 16 is finished\n",
      "page number 17 is finished\n",
      "page number 18 is finished\n",
      "page number 19 is finished\n"
     ]
    }
   ],
   "source": [
    "title_list = []\n",
    "description_list = []\n",
    "author_list = []\n",
    "date_list = []\n",
    "link_list = []\n",
    "for p in range(1, latest_page + 1):\n",
    "    url = 'https://www.opencodez.com/page/{}'.format(p)\n",
    "    response = requests.get(url)\n",
    "    bs = BeautifulSoup(response.content, 'html.parser')\n",
    "    latest = bs.find('div', attrs = {'class':'latest-section'})\n",
    "    title = latest.findAll('h2', attrs = {'class':'title'})\n",
    "    description = latest.findAll('div', attrs={'class':'post-content image-caption-format-1'})\n",
    "    author = latest.findAll('div', attrs={'class':'post-info'})\n",
    "    date = latest.findAll('span', attrs={'class':'thetime'})\n",
    "    link = latest.findAll('h2', attrs={'class':'title'})\n",
    "    \n",
    "    all_lists_length = [\n",
    "        len(title),\n",
    "        len(description),\n",
    "        len(author),\n",
    "        len(date),\n",
    "        len(link)\n",
    "    ]\n",
    "    if len(set(all_lists_length)) == 1:\n",
    "        for i in range(all_lists_length[0]):\n",
    "            title_list.append(title[i].find('a')['title'])\n",
    "            description_list.append(description[i].find('p').get_text().strip())\n",
    "            author_list.append(author[i].find('a').get_text())\n",
    "            date_list.append(date[i].get_text())\n",
    "            link_list.append(link[i].find('a')['href'])\n",
    "    else:\n",
    "        print('Sorry! Some values are missing')\n",
    "    print('page number {} is finished'.format(p))"
   ]
  },
  {
   "cell_type": "code",
   "execution_count": 7,
   "id": "9806c518",
   "metadata": {},
   "outputs": [],
   "source": [
    "import pandas as pd"
   ]
  },
  {
   "cell_type": "code",
   "execution_count": 8,
   "id": "d3f99290",
   "metadata": {},
   "outputs": [],
   "source": [
    "df = pd.DataFrame(list(zip(title_list, description_list, author_list, date_list, link_list)), columns=['Title', 'Description', 'Author', 'Date', 'Link'])"
   ]
  },
  {
   "cell_type": "code",
   "execution_count": 9,
   "id": "a441407f",
   "metadata": {},
   "outputs": [
    {
     "data": {
      "text/html": [
       "<div>\n",
       "<style scoped>\n",
       "    .dataframe tbody tr th:only-of-type {\n",
       "        vertical-align: middle;\n",
       "    }\n",
       "\n",
       "    .dataframe tbody tr th {\n",
       "        vertical-align: top;\n",
       "    }\n",
       "\n",
       "    .dataframe thead th {\n",
       "        text-align: right;\n",
       "    }\n",
       "</style>\n",
       "<table border=\"1\" class=\"dataframe\">\n",
       "  <thead>\n",
       "    <tr style=\"text-align: right;\">\n",
       "      <th></th>\n",
       "      <th>Title</th>\n",
       "      <th>Description</th>\n",
       "      <th>Author</th>\n",
       "      <th>Date</th>\n",
       "      <th>Link</th>\n",
       "    </tr>\n",
       "  </thead>\n",
       "  <tbody>\n",
       "    <tr>\n",
       "      <th>0</th>\n",
       "      <td>Python Tutorial :#2 Python Vs Java</td>\n",
       "      <td>As we know Python and Java, Both the languages...</td>\n",
       "      <td>Supriya</td>\n",
       "      <td>Mar 10, 2022</td>\n",
       "      <td>https://www.opencodez.com/python/python-tutori...</td>\n",
       "    </tr>\n",
       "    <tr>\n",
       "      <th>1</th>\n",
       "      <td>Python Tutorial : #1 Introduction to Python</td>\n",
       "      <td>Python is a most popular programming language ...</td>\n",
       "      <td>Supriya</td>\n",
       "      <td>Feb 20, 2022</td>\n",
       "      <td>https://www.opencodez.com/python/python-tutori...</td>\n",
       "    </tr>\n",
       "    <tr>\n",
       "      <th>2</th>\n",
       "      <td>Chain of Responsibility – Behavioral Design Pa...</td>\n",
       "      <td>The Chain of Responsibility Pattern comes unde...</td>\n",
       "      <td>Supriya</td>\n",
       "      <td>Aug 1, 2020</td>\n",
       "      <td>https://www.opencodez.com/java/chain-of-respon...</td>\n",
       "    </tr>\n",
       "    <tr>\n",
       "      <th>3</th>\n",
       "      <td>Flyweight Pattern – Structural Design Pattern</td>\n",
       "      <td>Flyweight pattern comes under Structural Desig...</td>\n",
       "      <td>Supriya</td>\n",
       "      <td>May 20, 2020</td>\n",
       "      <td>https://www.opencodez.com/java/flyweight-patte...</td>\n",
       "    </tr>\n",
       "    <tr>\n",
       "      <th>4</th>\n",
       "      <td>What Is Full Stack QA or Tester? 4 Steps Guide...</td>\n",
       "      <td>We have always heard the term full-stack devel...</td>\n",
       "      <td>Shilpa</td>\n",
       "      <td>May 18, 2020</td>\n",
       "      <td>https://www.opencodez.com/software-testing/bec...</td>\n",
       "    </tr>\n",
       "    <tr>\n",
       "      <th>...</th>\n",
       "      <td>...</td>\n",
       "      <td>...</td>\n",
       "      <td>...</td>\n",
       "      <td>...</td>\n",
       "      <td>...</td>\n",
       "    </tr>\n",
       "    <tr>\n",
       "      <th>215</th>\n",
       "      <td>Note on Software Development</td>\n",
       "      <td>Understand the requirements: It’s often the ca...</td>\n",
       "      <td>Pavan</td>\n",
       "      <td>Feb 13, 2009</td>\n",
       "      <td>https://www.opencodez.com/web-development/note...</td>\n",
       "    </tr>\n",
       "    <tr>\n",
       "      <th>216</th>\n",
       "      <td>Points you must check while installing XAMPP o...</td>\n",
       "      <td>Xampp is the best option to run websites on wi...</td>\n",
       "      <td>Pavan</td>\n",
       "      <td>Feb 12, 2009</td>\n",
       "      <td>https://www.opencodez.com/web-server/installin...</td>\n",
       "    </tr>\n",
       "    <tr>\n",
       "      <th>217</th>\n",
       "      <td>Sort your tables with out an extra server trip</td>\n",
       "      <td>Name I need back my money Jack Bauer $10.00 Ch...</td>\n",
       "      <td>Pavan</td>\n",
       "      <td>Feb 1, 2009</td>\n",
       "      <td>https://www.opencodez.com/java-script/sort-you...</td>\n",
       "    </tr>\n",
       "    <tr>\n",
       "      <th>218</th>\n",
       "      <td>How to learn a Programming Language easily</td>\n",
       "      <td>Learning a programming language is as good as ...</td>\n",
       "      <td>Pavan</td>\n",
       "      <td>Dec 21, 2008</td>\n",
       "      <td>https://www.opencodez.com/how-to-guide/learnin...</td>\n",
       "    </tr>\n",
       "    <tr>\n",
       "      <th>219</th>\n",
       "      <td>How to become an Efficient and Good Programmer</td>\n",
       "      <td>I have been in the Software Industry for more ...</td>\n",
       "      <td>Pavan</td>\n",
       "      <td>Dec 21, 2008</td>\n",
       "      <td>https://www.opencodez.com/how-to-guide/how-to-...</td>\n",
       "    </tr>\n",
       "  </tbody>\n",
       "</table>\n",
       "<p>220 rows × 5 columns</p>\n",
       "</div>"
      ],
      "text/plain": [
       "                                                 Title  \\\n",
       "0                   Python Tutorial :#2 Python Vs Java   \n",
       "1          Python Tutorial : #1 Introduction to Python   \n",
       "2    Chain of Responsibility – Behavioral Design Pa...   \n",
       "3        Flyweight Pattern – Structural Design Pattern   \n",
       "4    What Is Full Stack QA or Tester? 4 Steps Guide...   \n",
       "..                                                 ...   \n",
       "215                       Note on Software Development   \n",
       "216  Points you must check while installing XAMPP o...   \n",
       "217     Sort your tables with out an extra server trip   \n",
       "218         How to learn a Programming Language easily   \n",
       "219     How to become an Efficient and Good Programmer   \n",
       "\n",
       "                                           Description   Author  \\\n",
       "0    As we know Python and Java, Both the languages...  Supriya   \n",
       "1    Python is a most popular programming language ...  Supriya   \n",
       "2    The Chain of Responsibility Pattern comes unde...  Supriya   \n",
       "3    Flyweight pattern comes under Structural Desig...  Supriya   \n",
       "4    We have always heard the term full-stack devel...   Shilpa   \n",
       "..                                                 ...      ...   \n",
       "215  Understand the requirements: It’s often the ca...    Pavan   \n",
       "216  Xampp is the best option to run websites on wi...    Pavan   \n",
       "217  Name I need back my money Jack Bauer $10.00 Ch...    Pavan   \n",
       "218  Learning a programming language is as good as ...    Pavan   \n",
       "219  I have been in the Software Industry for more ...    Pavan   \n",
       "\n",
       "              Date                                               Link  \n",
       "0     Mar 10, 2022  https://www.opencodez.com/python/python-tutori...  \n",
       "1     Feb 20, 2022  https://www.opencodez.com/python/python-tutori...  \n",
       "2      Aug 1, 2020  https://www.opencodez.com/java/chain-of-respon...  \n",
       "3     May 20, 2020  https://www.opencodez.com/java/flyweight-patte...  \n",
       "4     May 18, 2020  https://www.opencodez.com/software-testing/bec...  \n",
       "..             ...                                                ...  \n",
       "215   Feb 13, 2009  https://www.opencodez.com/web-development/note...  \n",
       "216   Feb 12, 2009  https://www.opencodez.com/web-server/installin...  \n",
       "217    Feb 1, 2009  https://www.opencodez.com/java-script/sort-you...  \n",
       "218   Dec 21, 2008  https://www.opencodez.com/how-to-guide/learnin...  \n",
       "219   Dec 21, 2008  https://www.opencodez.com/how-to-guide/how-to-...  \n",
       "\n",
       "[220 rows x 5 columns]"
      ]
     },
     "execution_count": 9,
     "metadata": {},
     "output_type": "execute_result"
    }
   ],
   "source": [
    "df"
   ]
  },
  {
   "cell_type": "code",
   "execution_count": null,
   "id": "7bf4f221",
   "metadata": {},
   "outputs": [],
   "source": []
  }
 ],
 "metadata": {
  "kernelspec": {
   "display_name": "Python 3 (ipykernel)",
   "language": "python",
   "name": "python3"
  },
  "language_info": {
   "codemirror_mode": {
    "name": "ipython",
    "version": 3
   },
   "file_extension": ".py",
   "mimetype": "text/x-python",
   "name": "python",
   "nbconvert_exporter": "python",
   "pygments_lexer": "ipython3",
   "version": "3.10.5"
  }
 },
 "nbformat": 4,
 "nbformat_minor": 5
}
