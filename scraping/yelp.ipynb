{
 "cells": [
  {
   "cell_type": "code",
   "execution_count": 2,
   "id": "8a94bc36",
   "metadata": {},
   "outputs": [],
   "source": [
    "from selenium import webdriver\n",
    "from selenium.webdriver.common.by import By\n",
    "import time"
   ]
  },
  {
   "cell_type": "code",
   "execution_count": 18,
   "id": "e30e7517",
   "metadata": {},
   "outputs": [],
   "source": [
    "url = 'https://www.yelp.co.uk'"
   ]
  },
  {
   "cell_type": "code",
   "execution_count": 121,
   "id": "47601d75",
   "metadata": {},
   "outputs": [],
   "source": [
    "driver = webdriver.Safari()\n"
   ]
  },
  {
   "cell_type": "code",
   "execution_count": 122,
   "id": "4ecc6d02",
   "metadata": {},
   "outputs": [],
   "source": [
    "driver.get(url)"
   ]
  },
  {
   "cell_type": "code",
   "execution_count": 123,
   "id": "3514b84b",
   "metadata": {},
   "outputs": [],
   "source": [
    "search_button = driver.find_element(By.XPATH, value='//*[@id=\"header_find_form\"]/div/div[2]/div/div/button')\n",
    "search_button.click()"
   ]
  },
  {
   "cell_type": "code",
   "execution_count": 124,
   "id": "a0ecf940",
   "metadata": {},
   "outputs": [],
   "source": [
    "city = driver.find_element(By.ID, value='search_location')"
   ]
  },
  {
   "cell_type": "code",
   "execution_count": 125,
   "id": "16605ca7",
   "metadata": {},
   "outputs": [
    {
     "name": "stdout",
     "output_type": "stream",
     "text": [
      "Manchester\n"
     ]
    }
   ],
   "source": [
    "print(city.get_attribute('value'))"
   ]
  },
  {
   "cell_type": "code",
   "execution_count": 139,
   "id": "13548673",
   "metadata": {},
   "outputs": [],
   "source": [
    "places = driver.find_elements(By.CLASS_NAME, value='css-1m051bw')"
   ]
  },
  {
   "cell_type": "code",
   "execution_count": 140,
   "id": "e2577792",
   "metadata": {},
   "outputs": [
    {
     "name": "stdout",
     "output_type": "stream",
     "text": [
      "Home Sweet Home\n",
      "Federal Cafe & Bar\n",
      "Northern Soul Grilled Cheese\n",
      "Albert’s Schloss\n",
      "Pieminister\n",
      "Barbakan Delicatessen\n",
      "John Rylands Library\n",
      "Museum of Science & Industry\n",
      "Akbar’s\n",
      "Katsouris Deli\n"
     ]
    }
   ],
   "source": [
    "places_list = \n",
    "for place in places:\n",
    "    \n",
    "    print(place.get_attribute('name'))"
   ]
  },
  {
   "cell_type": "code",
   "execution_count": 142,
   "id": "63df9ea5",
   "metadata": {},
   "outputs": [],
   "source": []
  },
  {
   "cell_type": "code",
   "execution_count": 144,
   "id": "719584a0",
   "metadata": {},
   "outputs": [],
   "source": []
  },
  {
   "cell_type": "code",
   "execution_count": null,
   "id": "0b8d36eb",
   "metadata": {},
   "outputs": [],
   "source": []
  }
 ],
 "metadata": {
  "kernelspec": {
   "display_name": "Python 3 (ipykernel)",
   "language": "python",
   "name": "python3"
  },
  "language_info": {
   "codemirror_mode": {
    "name": "ipython",
    "version": 3
   },
   "file_extension": ".py",
   "mimetype": "text/x-python",
   "name": "python",
   "nbconvert_exporter": "python",
   "pygments_lexer": "ipython3",
   "version": "3.10.5"
  }
 },
 "nbformat": 4,
 "nbformat_minor": 5
}
