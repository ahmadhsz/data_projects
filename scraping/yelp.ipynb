{
 "cells": [
  {
   "cell_type": "code",
   "execution_count": 1,
   "id": "d92d861b",
   "metadata": {},
   "outputs": [],
   "source": [
    "from selenium import webdriver\n",
    "from selenium.webdriver.common.by import By\n",
    "import time"
   ]
  },
  {
   "cell_type": "code",
   "execution_count": 2,
   "id": "3ba8c8db",
   "metadata": {},
   "outputs": [],
   "source": [
    "url = 'https://www.yelp.co.uk'"
   ]
  },
  {
   "cell_type": "code",
   "execution_count": 3,
   "id": "2a7371f1",
   "metadata": {},
   "outputs": [],
   "source": [
    "driver = webdriver.Safari()\n"
   ]
  },
  {
   "cell_type": "code",
   "execution_count": 4,
   "id": "3421df23",
   "metadata": {},
   "outputs": [],
   "source": [
    "driver.get(url)"
   ]
  },
  {
   "cell_type": "code",
   "execution_count": 5,
   "id": "18973a99",
   "metadata": {},
   "outputs": [],
   "source": [
    "search_box = driver.find_element(By.NAME, value='find_desc')\n",
    "search_box.click()\n",
    "search_box.send_keys('Restaurants')"
   ]
  },
  {
   "cell_type": "code",
   "execution_count": 6,
   "id": "84aa7100",
   "metadata": {},
   "outputs": [],
   "source": [
    "search_button = driver.find_element(By.XPATH, value='//*[@id=\"header_find_form\"]/div/div[2]/div/div/button')\n",
    "search_button.click()"
   ]
  },
  {
   "cell_type": "code",
   "execution_count": 35,
   "id": "10cb2cb7",
   "metadata": {},
   "outputs": [],
   "source": [
    "name = driver.find_elements(By.XPATH, value=\"//div[@class=' businessName__09f24__EYSZE display--inline-block__09f24__fEDiJ border-color--default__09f24__NPAKY']/div/h3/span/a\")\n"
   ]
  },
  {
   "cell_type": "code",
   "execution_count": 28,
   "id": "87d1fe9d",
   "metadata": {},
   "outputs": [],
   "source": [
    "stars = driver.find_elements(By.XPATH, value='//div[@class=\" border-color--default__09f24__NPAKY\"]/div/div/span/div')\n"
   ]
  },
  {
   "cell_type": "code",
   "execution_count": 13,
   "id": "62b7b8d9",
   "metadata": {},
   "outputs": [],
   "source": [
    "num_of_reviews = driver.find_elements(By.XPATH, value='//div[@class=\" display--inline-block__09f24__fEDiJ border-color--default__09f24__NPAKY\"]/span[@class=\" css-chan6m\"]')"
   ]
  },
  {
   "cell_type": "code",
   "execution_count": 32,
   "id": "27118833",
   "metadata": {},
   "outputs": [],
   "source": [
    "address = driver.find_elements(By.XPATH, value='//p[@class=\"css-dzq7l1\"]/span[@class=\" css-chan6m\"]')"
   ]
  },
  {
   "cell_type": "code",
   "execution_count": 34,
   "id": "cd3ffb71",
   "metadata": {},
   "outputs": [
    {
     "data": {
      "text/plain": [
       "''"
      ]
     },
     "execution_count": 34,
     "metadata": {},
     "output_type": "execute_result"
    }
   ],
   "source": [
    "address[2].text"
   ]
  },
  {
   "cell_type": "code",
   "execution_count": 36,
   "id": "68ee278e",
   "metadata": {},
   "outputs": [],
   "source": [
    "all_lists_length = [\n",
    "    len(name),\n",
    "    len(stars),\n",
    "    len(num_of_reviews),\n",
    "    len(address)\n",
    "]"
   ]
  },
  {
   "cell_type": "code",
   "execution_count": 37,
   "id": "8d88d74f",
   "metadata": {},
   "outputs": [
    {
     "data": {
      "text/plain": [
       "[10, 10, 10, 10]"
      ]
     },
     "execution_count": 37,
     "metadata": {},
     "output_type": "execute_result"
    }
   ],
   "source": [
    "all_lists_length"
   ]
  },
  {
   "cell_type": "code",
   "execution_count": 39,
   "id": "cbf649e7",
   "metadata": {},
   "outputs": [],
   "source": [
    "name_list = []\n",
    "stars_list = []\n",
    "num_of_reviews_list = []\n",
    "address_list = []\n",
    "if len(set(all_lists_length)) == 1:\n",
    "    for i in range(all_lists_length[0]):\n",
    "        name_list.append(name[i].text)\n",
    "        stars_list.append(float(stars[i].get_attribute('aria-label').split(' ')[0]))\n",
    "        num_of_reviews_list.append(int(num_of_reviews[i].text))\n",
    "        address_list.append(address[i].text)\n",
    "else:\n",
    "    print('Sorry! Some values are missing.')"
   ]
  },
  {
   "cell_type": "code",
   "execution_count": 41,
   "id": "8220b955",
   "metadata": {},
   "outputs": [],
   "source": [
    "import pandas as pd"
   ]
  },
  {
   "cell_type": "code",
   "execution_count": 52,
   "id": "b465f8d5",
   "metadata": {},
   "outputs": [],
   "source": [
    "df = pd.DataFrame(list(zip(name_list, stars_list, num_of_reviews_list, address_list)),\n",
    "                 columns=['Restaurant', 'Stars', 'Number Of Reviews', 'Address'], index=None)"
   ]
  },
  {
   "cell_type": "code",
   "execution_count": 53,
   "id": "7bdce69b",
   "metadata": {},
   "outputs": [
    {
     "data": {
      "text/html": [
       "<div>\n",
       "<style scoped>\n",
       "    .dataframe tbody tr th:only-of-type {\n",
       "        vertical-align: middle;\n",
       "    }\n",
       "\n",
       "    .dataframe tbody tr th {\n",
       "        vertical-align: top;\n",
       "    }\n",
       "\n",
       "    .dataframe thead th {\n",
       "        text-align: right;\n",
       "    }\n",
       "</style>\n",
       "<table border=\"1\" class=\"dataframe\">\n",
       "  <thead>\n",
       "    <tr style=\"text-align: right;\">\n",
       "      <th></th>\n",
       "      <th>Restaurant</th>\n",
       "      <th>Stars</th>\n",
       "      <th>Number Of Reviews</th>\n",
       "      <th>Address</th>\n",
       "    </tr>\n",
       "  </thead>\n",
       "  <tbody>\n",
       "    <tr>\n",
       "      <th>0</th>\n",
       "      <td>Pieminister</td>\n",
       "      <td>4.5</td>\n",
       "      <td>65</td>\n",
       "      <td>Northern Quarter</td>\n",
       "    </tr>\n",
       "    <tr>\n",
       "      <th>1</th>\n",
       "      <td>WOOD</td>\n",
       "      <td>4.5</td>\n",
       "      <td>2</td>\n",
       "      <td>Oxford Road Corridor</td>\n",
       "    </tr>\n",
       "    <tr>\n",
       "      <th>2</th>\n",
       "      <td>Almost Famous</td>\n",
       "      <td>4.0</td>\n",
       "      <td>89</td>\n",
       "      <td></td>\n",
       "    </tr>\n",
       "    <tr>\n",
       "      <th>3</th>\n",
       "      <td>Gorilla</td>\n",
       "      <td>4.0</td>\n",
       "      <td>65</td>\n",
       "      <td></td>\n",
       "    </tr>\n",
       "    <tr>\n",
       "      <th>4</th>\n",
       "      <td>Albert’s Schloss</td>\n",
       "      <td>4.5</td>\n",
       "      <td>96</td>\n",
       "      <td></td>\n",
       "    </tr>\n",
       "    <tr>\n",
       "      <th>5</th>\n",
       "      <td>Seoul Kimchi</td>\n",
       "      <td>4.5</td>\n",
       "      <td>28</td>\n",
       "      <td>Oxford Road Corridor</td>\n",
       "    </tr>\n",
       "    <tr>\n",
       "      <th>6</th>\n",
       "      <td>Turtle Bay</td>\n",
       "      <td>4.0</td>\n",
       "      <td>51</td>\n",
       "      <td>Oxford Road Corridor</td>\n",
       "    </tr>\n",
       "    <tr>\n",
       "      <th>7</th>\n",
       "      <td>Federal Cafe &amp; Bar</td>\n",
       "      <td>4.5</td>\n",
       "      <td>103</td>\n",
       "      <td>Northern Quarter</td>\n",
       "    </tr>\n",
       "    <tr>\n",
       "      <th>8</th>\n",
       "      <td>Gaucho Grill</td>\n",
       "      <td>4.5</td>\n",
       "      <td>82</td>\n",
       "      <td>City Centre</td>\n",
       "    </tr>\n",
       "    <tr>\n",
       "      <th>9</th>\n",
       "      <td>Hawksmoor Manchester</td>\n",
       "      <td>4.5</td>\n",
       "      <td>39</td>\n",
       "      <td>Spinningfields</td>\n",
       "    </tr>\n",
       "  </tbody>\n",
       "</table>\n",
       "</div>"
      ],
      "text/plain": [
       "             Restaurant  Stars  Number Of Reviews               Address\n",
       "0           Pieminister    4.5                 65      Northern Quarter\n",
       "1                  WOOD    4.5                  2  Oxford Road Corridor\n",
       "2         Almost Famous    4.0                 89                      \n",
       "3               Gorilla    4.0                 65                      \n",
       "4      Albert’s Schloss    4.5                 96                      \n",
       "5          Seoul Kimchi    4.5                 28  Oxford Road Corridor\n",
       "6            Turtle Bay    4.0                 51  Oxford Road Corridor\n",
       "7    Federal Cafe & Bar    4.5                103      Northern Quarter\n",
       "8          Gaucho Grill    4.5                 82           City Centre\n",
       "9  Hawksmoor Manchester    4.5                 39        Spinningfields"
      ]
     },
     "execution_count": 53,
     "metadata": {},
     "output_type": "execute_result"
    }
   ],
   "source": [
    "df"
   ]
  },
  {
   "cell_type": "code",
   "execution_count": null,
   "id": "6a0a1e57",
   "metadata": {},
   "outputs": [],
   "source": []
  }
 ],
 "metadata": {
  "kernelspec": {
   "display_name": "Python 3 (ipykernel)",
   "language": "python",
   "name": "python3"
  },
  "language_info": {
   "codemirror_mode": {
    "name": "ipython",
    "version": 3
   },
   "file_extension": ".py",
   "mimetype": "text/x-python",
   "name": "python",
   "nbconvert_exporter": "python",
   "pygments_lexer": "ipython3",
   "version": "3.10.5"
  }
 },
 "nbformat": 4,
 "nbformat_minor": 5
}
